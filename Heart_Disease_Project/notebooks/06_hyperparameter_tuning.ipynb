{
 "cells": [
  {
   "cell_type": "markdown",
   "id": "2fca99a8",
   "metadata": {
    "id": "uqiXx15xKea5"
   },
   "source": [
    "# 2.6 Hyperparameter Tuning"
   ]
  },
  {
   "cell_type": "markdown",
   "id": "f6f22666",
   "metadata": {
    "id": "Hmf6sWHIKeYn"
   },
   "source": [
    "**Random Forest Example with GridSearchCV**"
   ]
  },
  {
   "cell_type": "code",
   "execution_count": 113,
   "id": "d53fb4c9",
   "metadata": {
    "colab": {
     "base_uri": "https://localhost:8080/"
    },
    "id": "4xRVWoGXKad4",
    "outputId": "967d8741-5c44-4f00-98e7-5d9638877151"
   },
   "outputs": [
    {
     "name": "stdout",
     "output_type": "stream",
     "text": [
      "✅ Best RF Parameters: {'max_depth': None, 'min_samples_leaf': 4, 'min_samples_split': 2, 'n_estimators': 200}\n",
      "Best AUC Score (CV): 0.902979020979021\n",
      "Test Accuracy: 0.8333333333333334\n",
      "Test AUC: 0.921875\n"
     ]
    }
   ],
   "source": [
    "from sklearn.model_selection import GridSearchCV\n",
    "\n",
    "# Define parameter grid\n",
    "param_grid_rf = {\n",
    "    'n_estimators': [100, 200, 300],\n",
    "    'max_depth': [None, 5, 10, 15],\n",
    "    'min_samples_split': [2, 5, 10],\n",
    "    'min_samples_leaf': [1, 2, 4]\n",
    "}\n",
    "\n",
    "# Initialize GridSearchCV\n",
    "grid_rf = GridSearchCV(\n",
    "    estimator=RandomForestClassifier(random_state=42),\n",
    "    param_grid=param_grid_rf,\n",
    "    cv=5,               # 5-fold cross-validation\n",
    "    scoring='roc_auc',  # optimize for AUC\n",
    "    n_jobs=-1\n",
    ")\n",
    "\n",
    "# Fit GridSearchCV\n",
    "grid_rf.fit(X_train, y_train)\n",
    "\n",
    "# Best parameters & score\n",
    "print(\"✅ Best RF Parameters:\", grid_rf.best_params_)\n",
    "print(\"Best AUC Score (CV):\", grid_rf.best_score_)\n",
    "\n",
    "# Evaluate on test set\n",
    "best_rf = grid_rf.best_estimator_\n",
    "y_pred_rf = best_rf.predict(X_test)\n",
    "y_prob_rf = best_rf.predict_proba(X_test)[:,1]\n",
    "\n",
    "from sklearn.metrics import accuracy_score, roc_auc_score\n",
    "print(\"Test Accuracy:\", accuracy_score(y_test, y_pred_rf))\n",
    "print(\"Test AUC:\", roc_auc_score(y_test, y_prob_rf))\n"
   ]
  },
  {
   "cell_type": "markdown",
   "id": "07b33855",
   "metadata": {
    "id": "QsDw57E-Kxq0"
   },
   "source": [
    "**SVM Example with RandomizedSearchCV**"
   ]
  },
  {
   "cell_type": "code",
   "execution_count": 114,
   "id": "cd59fc56",
   "metadata": {
    "colab": {
     "base_uri": "https://localhost:8080/"
    },
    "id": "8ZnCa-R_Kv3p",
    "outputId": "8a37f408-4750-4f1f-c696-b40d21c1476f"
   },
   "outputs": [
    {
     "name": "stdout",
     "output_type": "stream",
     "text": [
      "✅ Best SVM Parameters: {'C': np.float64(9.588855372533333), 'gamma': 'auto', 'kernel': 'linear'}\n",
      "Best AUC Score (CV): 0.8964475524475525\n",
      "Test Accuracy: 0.85\n",
      "Test AUC: 0.9162946428571428\n"
     ]
    }
   ],
   "source": [
    "from sklearn.model_selection import RandomizedSearchCV\n",
    "from scipy.stats import uniform\n",
    "\n",
    "# Parameter distribution for SVM\n",
    "param_dist_svm = {\n",
    "    'C': uniform(0.1, 10),\n",
    "    'gamma': ['scale', 'auto'],\n",
    "    'kernel': ['rbf', 'linear', 'poly']\n",
    "}\n",
    "\n",
    "# Initialize RandomizedSearchCV\n",
    "rand_svm = RandomizedSearchCV(\n",
    "    estimator=SVC(probability=True, random_state=42),\n",
    "    param_distributions=param_dist_svm,\n",
    "    n_iter=20,\n",
    "    cv=5,\n",
    "    scoring='roc_auc',\n",
    "    n_jobs=-1,\n",
    "    random_state=42\n",
    ")\n",
    "\n",
    "# Fit RandomizedSearchCV\n",
    "rand_svm.fit(X_train, y_train)\n",
    "\n",
    "# Best parameters & score\n",
    "print(\"✅ Best SVM Parameters:\", rand_svm.best_params_)\n",
    "print(\"Best AUC Score (CV):\", rand_svm.best_score_)\n",
    "\n",
    "# Evaluate on test set\n",
    "best_svm = rand_svm.best_estimator_\n",
    "y_pred_svm = best_svm.predict(X_test)\n",
    "y_prob_svm = best_svm.predict_proba(X_test)[:,1]\n",
    "\n",
    "print(\"Test Accuracy:\", accuracy_score(y_test, y_pred_svm))\n",
    "print(\"Test AUC:\", roc_auc_score(y_test, y_prob_svm))\n"
   ]
  },
  {
   "cell_type": "markdown",
   "id": "23e6c921",
   "metadata": {
    "id": "tlTRGc88M18c"
   },
   "source": [
    "# Saving the Model"
   ]
  },
  {
   "cell_type": "code",
   "execution_count": 116,
   "id": "dd5841db",
   "metadata": {
    "colab": {
     "base_uri": "https://localhost:8080/"
    },
    "id": "uCD4StGnM1wW",
    "outputId": "4b17e8ae-80a6-4334-9d34-c92cd0d059de"
   },
   "outputs": [
    {
     "name": "stdout",
     "output_type": "stream",
     "text": [
      "✅ Random Forest model pipeline saved successfully!\n"
     ]
    }
   ],
   "source": [
    "import os\n",
    "import joblib\n",
    "from sklearn.pipeline import Pipeline\n",
    "from sklearn.preprocessing import StandardScaler\n",
    "\n",
    "# Create folder if it doesn't exist\n",
    "os.makedirs(\"models\", exist_ok=True)\n",
    "\n",
    "# Example: Random Forest pipeline\n",
    "pipeline_rf = Pipeline([\n",
    "    ('scaler', StandardScaler()),\n",
    "    ('model', best_rf)\n",
    "])\n",
    "\n",
    "# Fit pipeline (optional)\n",
    "pipeline_rf.fit(X_train, y_train)\n",
    "\n",
    "# Save pipeline\n",
    "joblib.dump(pipeline_rf, \"models/heart_disease_rf_pipeline.pkl\")\n",
    "print(\"✅ Random Forest model pipeline saved successfully!\")\n"
   ]
  },
  {
   "cell_type": "code",
   "execution_count": 117,
   "id": "7739a873",
   "metadata": {
    "colab": {
     "base_uri": "https://localhost:8080/"
    },
    "id": "taxRwb9dNTL8",
    "outputId": "1c4acef9-301a-4590-e660-5e5ee3110fb9"
   },
   "outputs": [
    {
     "name": "stdout",
     "output_type": "stream",
     "text": [
      "✅ SVM model pipeline saved successfully!\n"
     ]
    }
   ],
   "source": [
    "# Create folder if it doesn't exist (optional, already done)\n",
    "os.makedirs(\"models\", exist_ok=True)\n",
    "\n",
    "# SVM pipeline\n",
    "pipeline_svm = Pipeline([\n",
    "    ('scaler', StandardScaler()),  # SVM needs scaling\n",
    "    ('model', best_svm)            # your optimized SVM model\n",
    "])\n",
    "\n",
    "# Fit pipeline on training data\n",
    "pipeline_svm.fit(X_train, y_train)\n",
    "\n",
    "# Save pipeline to .pkl\n",
    "joblib.dump(pipeline_svm, \"models/heart_disease_svm_pipeline.pkl\")\n",
    "print(\"✅ SVM model pipeline saved successfully!\")"
   ]
  },
  {
   "cell_type": "markdown",
   "id": "dc3a504f",
   "metadata": {
    "id": "YUl1ybBoOHgz"
   },
   "source": [
    "# 2.8 Streamlit Web UI Development"
   ]
  },
  {
   "cell_type": "code",
   "execution_count": 123,
   "id": "d7ad65b8",
   "metadata": {
    "id": "N4v5hA5vOKu1"
   },
   "outputs": [],
   "source": [
    "# !pip install streamlit pyngrok joblib\n"
   ]
  },
  {
   "cell_type": "code",
   "execution_count": null,
   "id": "b9db7a35",
   "metadata": {
    "id": "7kmLpUPYOMku"
   },
   "outputs": [],
   "source": [
    "# app.py\n",
    "# # (Paste your entire Streamlit app code here)\n",
    "# import streamlit as st\n",
    "# import pandas as pd\n",
    "# import numpy as np\n",
    "# import joblib\n",
    "# import matplotlib.pyplot as plt\n",
    "# import seaborn as sns\n",
    "\n",
    "# # Load the saved model pipeline (choose RF or SVM)\n",
    "# model = joblib.load(\"models/heart_disease_rf_pipeline.pkl\")\n",
    "# # model = joblib.load(\"models/heart_disease_svm_pipeline.pkl\")  # optional\n",
    "\n",
    "# st.set_page_config(page_title=\"Heart Disease Prediction\", layout=\"wide\")\n",
    "# st.title(\"❤️ Heart Disease Risk Prediction\")\n",
    "\n",
    "# # --- Sidebar Input ---\n",
    "# st.sidebar.header(\"Enter Your Health Data:\")\n",
    "\n",
    "# def user_input_features():\n",
    "#     age = st.sidebar.slider('Age', 20, 100, 50)\n",
    "#     sex = st.sidebar.selectbox('Sex', ['Male', 'Female'])\n",
    "#     cp = st.sidebar.selectbox('Chest Pain Type', ['typical angina', 'atypical angina', 'non-anginal', 'asymptomatic'])\n",
    "#     trestbps = st.sidebar.slider('Resting Blood Pressure (mmHg)', 80, 200, 120)\n",
    "#     chol = st.sidebar.slider('Cholesterol (mg/dL)', 100, 400, 200)\n",
    "#     fbs = st.sidebar.selectbox('Fasting Blood Sugar > 120 mg/dL', ['True', 'False'])\n",
    "#     restecg = st.sidebar.selectbox('Resting ECG', ['normal', 'ST-T abnormality', 'left ventricular hypertrophy'])\n",
    "#     thalach = st.sidebar.slider('Max Heart Rate Achieved', 60, 220, 150)\n",
    "#     exang = st.sidebar.selectbox('Exercise Induced Angina', ['True', 'False'])\n",
    "#     oldpeak = st.sidebar.slider('ST depression induced by exercise', 0.0, 10.0, 1.0)\n",
    "#     slope = st.sidebar.selectbox('Slope of ST segment', ['upsloping', 'flat', 'downsloping'])\n",
    "#     ca = st.sidebar.slider('Number of major vessels colored by fluoroscopy', 0, 3, 0)\n",
    "#     thal = st.sidebar.selectbox('Thalassemia', ['normal', 'fixed defect', 'reversable defect'])\n",
    "\n",
    "#     data = {\n",
    "#         'age': age,\n",
    "#         'sex': 1 if sex == 'Male' else 0,\n",
    "#         'trestbps': trestbps,\n",
    "#         'chol': chol,\n",
    "#         'fbs': 1 if fbs == 'True' else 0,\n",
    "#         'restecg_1': 1 if restecg == 'ST-T abnormality' else 0,\n",
    "#         'restecg_2': 1 if restecg == 'left ventricular hypertrophy' else 0,\n",
    "#         'thalach': thalach,\n",
    "#         'exang': 1 if exang == 'True' else 0,\n",
    "#         'oldpeak': oldpeak,\n",
    "#         'slope_2': 1 if slope == 'flat' else 0,\n",
    "#         'slope_3': 1 if slope == 'downsloping' else 0,\n",
    "#         'ca': ca,\n",
    "#         'thal_6.0': 1 if thal == 'fixed defect' else 0,\n",
    "#         'thal_7.0': 1 if thal == 'reversable defect' else 0,\n",
    "#         # Add cp dummy variables\n",
    "#         'cp_2': 1 if cp == 'atypical angina' else 0,\n",
    "#         'cp_3': 1 if cp == 'non-anginal' else 0,\n",
    "#         'cp_4': 1 if cp == 'asymptomatic' else 0\n",
    "#     }\n",
    "\n",
    "#     features = pd.DataFrame(data, index=[0])\n",
    "#     return features\n",
    "\n",
    "# input_df = user_input_features()\n",
    "\n",
    "# # --- Prediction ---\n",
    "# st.subheader(\"Prediction Result\")\n",
    "# prediction = model.predict(input_df)\n",
    "# prediction_proba = model.predict_proba(input_df)\n",
    "\n",
    "# st.write(\"**Predicted Heart Disease:**\", \"Yes ❤️\" if prediction[0]==1 else \"No 💙\")\n",
    "# st.write(\"**Prediction Probability:**\")\n",
    "# st.write(f\"Probability of Heart Disease: {prediction_proba[0][1]:.2f}\")\n",
    "# st.write(f\"Probability of No Heart Disease: {prediction_proba[0][0]:.2f}\")\n",
    "\n",
    "# # --- Data Visualization (Optional) ---\n",
    "# st.subheader(\"Heart Disease Trends (Sample Dataset)\")\n",
    "\n",
    "# # Load dataset for visualization\n",
    "# # df_viz = pd.read_csv(\"data/heart_disease_uci.csv\")  # optional\n",
    "# # Example visualization using random sample\n",
    "# df_viz = pd.DataFrame({\n",
    "#     'age': np.random.randint(29, 77, 100),\n",
    "#     'num': np.random.choice([0,1], 100)\n",
    "# })\n",
    "\n",
    "# fig, ax = plt.subplots()\n",
    "# sns.countplot(x='num', data=df_viz, ax=ax)\n",
    "# ax.set_xticklabels(['No Disease', 'Heart Disease'])\n",
    "# ax.set_title(\"Heart Disease Distribution\")\n",
    "# st.pyplot(fig)"
   ]
  },
  {
   "cell_type": "code",
   "execution_count": 121,
   "id": "ef1c95fe",
   "metadata": {
    "id": "gYNMQIifOSvV"
   },
   "outputs": [],
   "source": [
    "# from pyngrok import ngrok\n",
    "# import os\n",
    "\n",
    "# # Kill any existing tunnels\n",
    "# ngrok.kill()\n",
    "\n",
    "# # Set up a tunnel to the Streamlit port 8501\n",
    "# public_url = ngrok.connect(port='8501')\n",
    "# print(\"🔗 Public URL:\", public_url)\n",
    "\n",
    "# # Run Streamlit app in background\n",
    "# !streamlit run app.py &>/dev/null &\n"
   ]
  }
 ],
 "metadata": {
  "language_info": {
   "name": "python"
  }
 },
 "nbformat": 4,
 "nbformat_minor": 5
}
