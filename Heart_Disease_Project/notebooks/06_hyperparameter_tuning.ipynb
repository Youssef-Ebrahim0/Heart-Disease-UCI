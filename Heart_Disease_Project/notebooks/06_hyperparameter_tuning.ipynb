{
 "cells": [
  {
   "cell_type": "markdown",
   "id": "2fca99a8",
   "metadata": {
    "id": "uqiXx15xKea5"
   },
   "source": [
    "# 2.6 Hyperparameter Tuning"
   ]
  },
  {
   "cell_type": "markdown",
   "id": "f6f22666",
   "metadata": {
    "id": "Hmf6sWHIKeYn"
   },
   "source": [
    "**Random Forest Example with GridSearchCV**"
   ]
  },
  {
   "cell_type": "code",
   "execution_count": 113,
   "id": "d53fb4c9",
   "metadata": {
    "colab": {
     "base_uri": "https://localhost:8080/"
    },
    "id": "4xRVWoGXKad4",
    "outputId": "967d8741-5c44-4f00-98e7-5d9638877151"
   },
   "outputs": [
    {
     "name": "stdout",
     "output_type": "stream",
     "text": [
      "✅ Best RF Parameters: {'max_depth': None, 'min_samples_leaf': 4, 'min_samples_split': 2, 'n_estimators': 200}\n",
      "Best AUC Score (CV): 0.902979020979021\n",
      "Test Accuracy: 0.8333333333333334\n",
      "Test AUC: 0.921875\n"
     ]
    }
   ],
   "source": [
    "from sklearn.model_selection import GridSearchCV\n",
    "from sklearn.ensemble import RandomForestClassifier\n",
    "from sklearn.metrics import accuracy_score, roc_auc_score\n",
    "\n",
    "# Define parameter grid\n",
    "param_grid_rf = {\n",
    "    'n_estimators': [100, 200, 300],\n",
    "    'max_depth': [None, 5, 10, 15],\n",
    "    'min_samples_split': [2, 5, 10],\n",
    "    'min_samples_leaf': [1, 2, 4]\n",
    "}\n",
    "\n",
    "# Initialize GridSearchCV\n",
    "grid_rf = GridSearchCV(\n",
    "    estimator=RandomForestClassifier(random_state=42),\n",
    "    param_grid=param_grid_rf,\n",
    "    cv=5,               # 5-fold cross-validation\n",
    "    scoring='roc_auc',  # optimize for AUC\n",
    "    n_jobs=-1\n",
    ")\n",
    "\n",
    "# Fit GridSearchCV\n",
    "grid_rf.fit(X_train, y_train)\n",
    "\n",
    "# Best parameters & score\n",
    "print(\"✅ Best RF Parameters:\", grid_rf.best_params_)\n",
    "print(\"Best AUC Score (CV):\", grid_rf.best_score_)\n",
    "\n",
    "# Evaluate on test set\n",
    "best_rf = grid_rf.best_estimator_\n",
    "y_pred_rf = best_rf.predict(X_test)\n",
    "y_prob_rf = best_rf.predict_proba(X_test)[:, 1]\n",
    "\n",
    "print(\"Test Accuracy:\", accuracy_score(y_test, y_pred_rf))\n",
    "print(\"Test AUC:\", roc_auc_score(y_test, y_prob_rf))\n"
   ]
  },
  {
   "cell_type": "markdown",
   "id": "07b33855",
   "metadata": {
    "id": "QsDw57E-Kxq0"
   },
   "source": [
    "**SVM Example with RandomizedSearchCV**"
   ]
  },
  {
   "cell_type": "code",
   "execution_count": 114,
   "id": "cd59fc56",
   "metadata": {
    "colab": {
     "base_uri": "https://localhost:8080/"
    },
    "id": "8ZnCa-R_Kv3p",
    "outputId": "8a37f408-4750-4f1f-c696-b40d21c1476f"
   },
   "outputs": [
    {
     "name": "stdout",
     "output_type": "stream",
     "text": [
      "✅ Best SVM Parameters: {'C': 9.588855372533333, 'gamma': 'auto', 'kernel': 'linear'}\n",
      "Best AUC Score (CV): 0.8964475524475525\n",
      "Test Accuracy: 0.85\n",
      "Test AUC: 0.9162946428571428\n"
     ]
    }
   ],
   "source": [
    "from sklearn.model_selection import RandomizedSearchCV\n",
    "from sklearn.svm import SVC\n",
    "from scipy.stats import uniform\n",
    "\n",
    "# Parameter distribution for SVM\n",
    "param_dist_svm = {\n",
    "    'C': uniform(0.1, 10),\n",
    "    'gamma': ['scale', 'auto'],\n",
    "    'kernel': ['rbf', 'linear', 'poly']\n",
    "}\n",
    "\n",
    "# Initialize RandomizedSearchCV\n",
    "rand_svm = RandomizedSearchCV(\n",
    "    estimator=SVC(probability=True, random_state=42),\n",
    "    param_distributions=param_dist_svm,\n",
    "    n_iter=20,\n",
    "    cv=5,\n",
    "    scoring='roc_auc',\n",
    "    n_jobs=-1,\n",
    "    random_state=42\n",
    ")\n",
    "\n",
    "# Fit RandomizedSearchCV\n",
    "rand_svm.fit(X_train, y_train)\n",
    "\n",
    "# Best parameters & score\n",
    "print(\"✅ Best SVM Parameters:\", rand_svm.best_params_)\n",
    "print(\"Best AUC Score (CV):\", rand_svm.best_score_)\n",
    "\n",
    "# Evaluate on test set\n",
    "best_svm = rand_svm.best_estimator_\n",
    "y_pred_svm = best_svm.predict(X_test)\n",
    "y_prob_svm = best_svm.predict_proba(X_test)[:, 1]\n",
    "\n",
    "print(\"Test Accuracy:\", accuracy_score(y_test, y_pred_svm))\n",
    "print(\"Test AUC:\", roc_auc_score(y_test, y_prob_svm))\n"
   ]
  },
  {
   "cell_type": "markdown",
   "id": "23e6c921",
   "metadata": {
    "id": "tlTRGc88M18c"
   },
   "source": [
    "# Saving the Model"
   ]
  },
  {
   "cell_type": "code",
   "execution_count": 116,
   "id": "dd5841db",
   "metadata": {
    "colab": {
     "base_uri": "https://localhost:8080/"
    },
    "id": "uCD4StGnM1wW",
    "outputId": "4b17e8ae-80a6-4334-9d34-c92cd0d059de"
   },
   "outputs": [
    {
     "name": "stdout",
     "output_type": "stream",
     "text": [
      "✅ Random Forest model pipeline saved successfully!\n"
     ]
    }
   ],
   "source": [
    "import os\n",
    "import joblib\n",
    "from sklearn.pipeline import Pipeline\n",
    "from sklearn.preprocessing import StandardScaler\n",
    "\n",
    "# Create folder if it doesn't exist\n",
    "os.makedirs(\"models\", exist_ok=True)\n",
    "\n",
    "# Example: Random Forest pipeline\n",
    "pipeline_rf = Pipeline([\n",
    "    ('scaler', StandardScaler()),\n",
    "    ('model', best_rf)\n",
    "])\n",
    "\n",
    "# Fit pipeline (optional)\n",
    "pipeline_rf.fit(X_train, y_train)\n",
    "\n",
    "# Save pipeline\n",
    "joblib.dump(pipeline_rf, \"models/heart_disease_rf_pipeline.pkl\")\n",
    "print(\"✅ Random Forest model pipeline saved successfully!\")\n"
   ]
  },
  {
   "cell_type": "code",
   "execution_count": 117,
   "id": "7739a873",
   "metadata": {
    "colab": {
     "base_uri": "https://localhost:8080/"
    },
    "id": "taxRwb9dNTL8",
    "outputId": "1c4acef9-301a-4590-e660-5e5ee3110fb9"
   },
   "outputs": [
    {
     "name": "stdout",
     "output_type": "stream",
     "text": [
      "✅ SVM model pipeline saved successfully!\n"
     ]
    }
   ],
   "source": [
    "# Create folder if it doesn't exist (optional, already done)\n",
    "os.makedirs(\"models\", exist_ok=True)\n",
    "\n",
    "# SVM pipeline\n",
    "pipeline_svm = Pipeline([\n",
    "    ('scaler', StandardScaler()),  # SVM needs scaling\n",
    "    ('model', best_svm)            # your optimized SVM model\n",
    "])\n",
    "\n",
    "# Fit pipeline on training data\n",
    "pipeline_svm.fit(X_train, y_train)\n",
    "\n",
    "# Save pipeline to .pkl\n",
    "joblib.dump(pipeline_svm, \"models/heart_disease_svm_pipeline.pkl\")\n",
    "print(\"✅ SVM model pipeline saved successfully!\")\n"
   ]
  }
 ],
 "metadata": {},
 "nbformat": 4,
 "nbformat_minor": 5
}
